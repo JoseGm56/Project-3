{
 "cells": [
  {
   "cell_type": "code",
   "execution_count": 1,
   "metadata": {},
   "outputs": [],
   "source": [
    "# Dependencies and Setup\n",
    "import pandas as pd\n",
    "from pathlib import Path\n",
    "import matplotlib.pyplot as plt\n",
    "\n",
    "# File to Load (Remember to Change These)\n",
    "missing_data_to_load = Path(\"Resources/coordinates.csv\")\n",
    "\n",
    "# Read School and Student Data File and store into Pandas DataFrames\n",
    "missing_data = pd.read_csv(missing_data_to_load)\n"
   ]
  },
  {
   "cell_type": "code",
   "execution_count": 2,
   "metadata": {},
   "outputs": [],
   "source": [
    "# Remove rows of data with missing, N/A, NaN\n",
    "\n",
    "missing_data_cleaned = missing_data.dropna()\n"
   ]
  },
  {
   "cell_type": "code",
   "execution_count": 3,
   "metadata": {},
   "outputs": [
    {
     "name": "stderr",
     "output_type": "stream",
     "text": [
      "/var/folders/q6/4n2chzks0c9076f10_rfqmb00000gn/T/ipykernel_76038/1571963757.py:3: SettingWithCopyWarning: \n",
      "A value is trying to be set on a copy of a slice from a DataFrame.\n",
      "Try using .loc[row_indexer,col_indexer] = value instead\n",
      "\n",
      "See the caveats in the documentation: https://pandas.pydata.org/pandas-docs/stable/user_guide/indexing.html#returning-a-view-versus-a-copy\n",
      "  missing_data_cleaned[['Height', 'Weight']] = missing_data_cleaned['Height and Weight'].str.split(',', expand=True)\n",
      "/var/folders/q6/4n2chzks0c9076f10_rfqmb00000gn/T/ipykernel_76038/1571963757.py:3: SettingWithCopyWarning: \n",
      "A value is trying to be set on a copy of a slice from a DataFrame.\n",
      "Try using .loc[row_indexer,col_indexer] = value instead\n",
      "\n",
      "See the caveats in the documentation: https://pandas.pydata.org/pandas-docs/stable/user_guide/indexing.html#returning-a-view-versus-a-copy\n",
      "  missing_data_cleaned[['Height', 'Weight']] = missing_data_cleaned['Height and Weight'].str.split(',', expand=True)\n"
     ]
    }
   ],
   "source": [
    "# Split the Height and Weight column into seperate columns\n",
    "\n",
    "missing_data_cleaned[['Height', 'Weight']] = missing_data_cleaned['Height and Weight'].str.split(',', expand=True)\n",
    "missing_data_cleaned = missing_data_cleaned.drop(columns=['Height and Weight'])\n",
    "\n",
    "# Reorder columns\n",
    "missing_data_cleaned = missing_data_cleaned[['Unnamed: 1',\n",
    "                                             'Person Name',\n",
    "                                             'Missing Since',\n",
    "                                             'Missing From',\n",
    "                                             'Classification',\n",
    "                                             'Sex',\n",
    "                                             'Race',\n",
    "                                             'Date of Birth',\n",
    "                                             'Age',\n",
    "                                             'Height',\n",
    "                                             'Weight',\n",
    "                                             'Latitude',\n",
    "                                             'Longitude']]\n",
    "                                            \n"
   ]
  },
  {
   "cell_type": "code",
   "execution_count": 4,
   "metadata": {},
   "outputs": [],
   "source": [
    "#Remove the \"years old\" from the age column (This can only be done once)\n",
    "\n",
    "# Define a custom function to remove text\n",
    "def remove_text(text):\n",
    "    return ''.join(char for char in text if char.isdigit())\n",
    "\n",
    "# Remove text from Age Column\n",
    "missing_data_cleaned['Age'] = missing_data_cleaned['Age'].apply(remove_text)\n",
    "missing_data_cleaned = missing_data_cleaned.rename(columns={'Age': 'Missing Age'})\n",
    "\n"
   ]
  },
  {
   "cell_type": "code",
   "execution_count": 5,
   "metadata": {},
   "outputs": [],
   "source": [
    "# rename columns and remove spaces\n",
    "missing_data_cleaned = missing_data_cleaned.rename(columns= {'Unnamed: 1' : 'Unnamed',\n",
    "                                             'Person Name' : 'Name',\n",
    "                                             'Missing Since' : 'Missing_Since',\n",
    "                                             'Missing From' : 'Missing_Location',\n",
    "                                             'Classification' : 'Classification',\n",
    "                                             'Sex': 'Sex',\n",
    "                                             'Race' : 'Race',\n",
    "                                             'Date of Birth' : 'DoB',\n",
    "                                             'Missing Age' : 'Missing_Age',\n",
    "                                             'Height' : 'Height',\n",
    "                                             'Weight' : 'Weight',\n",
    "                                             'Latitude' : 'Latitude',\n",
    "                                             'Longitude' : 'Longitude'})\n"
   ]
  },
  {
   "cell_type": "code",
   "execution_count": 6,
   "metadata": {},
   "outputs": [],
   "source": [
    "# Removed the white spaces at the beginning of varaibles\n",
    "missing_data_cleaned['Missing_Location'] = missing_data_cleaned['Missing_Location'].str.strip()\n",
    "missing_data_cleaned['Height'] = missing_data_cleaned['Height'].str.strip()\n",
    "missing_data_cleaned['Weight'] = missing_data_cleaned['Weight'].str.strip()\n",
    "\n",
    "# Removed corrent age from DoB\n",
    "missing_data_cleaned[['DoB', 'Current_Age']] = missing_data_cleaned['DoB'].str.split(' ', expand=True)\n",
    "#missing_data_cleaned = missing_data_cleaned.drop(columns=['Height and Weight'])\n",
    "missing_data_cleaned['Current_Age'] = missing_data_cleaned['Current_Age'].str.replace('(', '')\n",
    "missing_data_cleaned['Current_Age'] = missing_data_cleaned['Current_Age'].str.replace(')', '')"
   ]
  },
  {
   "cell_type": "code",
   "execution_count": 7,
   "metadata": {},
   "outputs": [],
   "source": [
    "# Final Reordering of data\n",
    "missing_data_cleaned = missing_data_cleaned[['Unnamed',\n",
    "                                             'Name',\n",
    "                                             'Missing_Since',\n",
    "                                             'Missing_Location',\n",
    "                                             'Classification',\n",
    "                                             'Sex',\n",
    "                                             'Race',\n",
    "                                             'DoB',\n",
    "                                             'Missing_Age',\n",
    "                                             'Current_Age',\n",
    "                                             'Height',\n",
    "                                             'Weight',\n",
    "                                             'Latitude',\n",
    "                                             'Longitude']]\n"
   ]
  },
  {
   "cell_type": "code",
   "execution_count": 8,
   "metadata": {},
   "outputs": [
    {
     "data": {
      "text/plain": [
       "Unnamed                      int64\n",
       "Name                        object\n",
       "Missing_Since       datetime64[ns]\n",
       "Missing_Location            object\n",
       "Classification              object\n",
       "Sex                         object\n",
       "Race                        object\n",
       "DoB                 datetime64[ns]\n",
       "Missing_Age                  int64\n",
       "Current_Age                  int64\n",
       "Height                      object\n",
       "Weight                      object\n",
       "Latitude                   float64\n",
       "Longitude                  float64\n",
       "dtype: object"
      ]
     },
     "execution_count": 8,
     "metadata": {},
     "output_type": "execute_result"
    }
   ],
   "source": [
    "# Change data types\n",
    "\n",
    "missing_data_cleaned['Missing_Since'] = pd.to_datetime(missing_data_cleaned['Missing_Since'])\n",
    "missing_data_cleaned['DoB'] = pd.to_datetime(missing_data_cleaned['DoB'])\n",
    "\n",
    "missing_data_cleaned['Missing_Age'] = missing_data_cleaned['Missing_Age'].astype(int)\n",
    "missing_data_cleaned['Current_Age'] = missing_data_cleaned['Current_Age'].astype(int)\n",
    "\n",
    "missing_data_cleaned.dtypes"
   ]
  },
  {
   "cell_type": "code",
   "execution_count": 9,
   "metadata": {},
   "outputs": [],
   "source": [
    "# save cleaned data as a csv\n",
    "missing_data_cleaned.to_csv(\"Resources/cleaned.csv\", index=False)"
   ]
  },
  {
   "cell_type": "code",
   "execution_count": null,
   "metadata": {},
   "outputs": [],
   "source": []
  }
 ],
 "metadata": {
  "anaconda-cloud": {},
  "kernel_info": {
   "name": "python3"
  },
  "kernelspec": {
   "display_name": "Python 3 (ipykernel)",
   "language": "python",
   "name": "python3"
  },
  "language_info": {
   "codemirror_mode": {
    "name": "ipython",
    "version": 3
   },
   "file_extension": ".py",
   "mimetype": "text/x-python",
   "name": "python",
   "nbconvert_exporter": "python",
   "pygments_lexer": "ipython3",
   "version": "3.11.4"
  },
  "latex_envs": {
   "LaTeX_envs_menu_present": true,
   "autoclose": false,
   "autocomplete": true,
   "bibliofile": "biblio.bib",
   "cite_by": "apalike",
   "current_citInitial": 1,
   "eqLabelWithNumbers": true,
   "eqNumInitial": 1,
   "hotkeys": {
    "equation": "Ctrl-E",
    "itemize": "Ctrl-I"
   },
   "labels_anchors": false,
   "latex_user_defs": false,
   "report_style_numbering": false,
   "user_envs_cfg": false
  },
  "nteract": {
   "version": "0.8.4"
  },
  "vscode": {
   "interpreter": {
    "hash": "5384d77d82de63fd599f73e77f9ec786e7719288bf80a29ec0288c670ac3cf32"
   }
  }
 },
 "nbformat": 4,
 "nbformat_minor": 4
}
